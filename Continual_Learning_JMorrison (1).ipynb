{
  "nbformat": 4,
  "nbformat_minor": 0,
  "metadata": {
    "accelerator": "GPU",
    "colab": {
      "name": "Continual Learning - JMorrison.ipynb",
      "provenance": [],
      "collapsed_sections": [],
      "machine_shape": "hm"
    },
    "kernelspec": {
      "display_name": "Python 3",
      "language": "python",
      "name": "python3"
    },
    "language_info": {
      "codemirror_mode": {
        "name": "ipython",
        "version": 3
      },
      "file_extension": ".py",
      "mimetype": "text/x-python",
      "name": "python",
      "nbconvert_exporter": "python",
      "pygments_lexer": "ipython3",
      "version": "3.7.8"
    }
  },
  "cells": [
    {
      "cell_type": "markdown",
      "metadata": {
        "id": "GzDVVhwRKiJb"
      },
      "source": [
        "## Continual Learning\n",
        "#### by John Morrison\n",
        "\n",
        "In this project I am to cover the main concepts in continual learning and lifelong learning by using and explaining code related to the Core50 dataset. The main reference for this workbook is published CVPR 2020 Challenge paper (link: https://arxiv.org/pdf/2009.09929.pdf) which covers the various winning strategies on this benchmark.\n",
        "\n",
        "This notebook will employ Pytorch as the main framework.\n",
        "\n",
        "**Steps to Get Started:**\n",
        "- Download data\n",
        "- Download Conda and dependencies\n",
        "- Reorganize the image folders\n"
      ]
    },
    {
      "cell_type": "code",
      "metadata": {
        "id": "3J0mUwRuaLNk",
        "outputId": "8e253d75-2601-4f5a-effa-7484b2270b49",
        "colab": {
          "base_uri": "https://localhost:8080/",
          "height": 1000
        }
      },
      "source": [
        "## Core50 Download\n",
        "\n",
        "!wget --directory-prefix='core50_data/' http://bias.csr.unibo.it/maltoni/download/core50/core50_128x128.zip\n",
        "\n",
        "!echo \"Unzipping data...\"\n",
        "!unzip core50_data/core50_128x128.zip -d core50_data/\n",
        "\n",
        "!mv core50_data/core50_128x128/* core50_data/"
      ],
      "execution_count": null,
      "outputs": [
        {
          "output_type": "stream",
          "text": [
            "\u001b[1;30;43mStreaming output truncated to the last 5000 lines.\u001b[0m\n",
            "  inflating: core50_data/core50_128x128/s6/o28/C_06_28_098.png  \n",
            "  inflating: core50_data/core50_128x128/s6/o28/C_06_28_088.png  \n",
            "  inflating: core50_data/core50_128x128/s6/o28/C_06_28_247.png  \n",
            "  inflating: core50_data/core50_128x128/s6/o28/C_06_28_089.png  \n",
            "  inflating: core50_data/core50_128x128/s6/o28/C_06_28_177.png  \n",
            "  inflating: core50_data/core50_128x128/s6/o28/C_06_28_164.png  \n",
            "  inflating: core50_data/core50_128x128/s6/o28/C_06_28_095.png  \n",
            "  inflating: core50_data/core50_128x128/s6/o28/C_06_28_146.png  \n",
            "  inflating: core50_data/core50_128x128/s6/o28/C_06_28_150.png  \n",
            "  inflating: core50_data/core50_128x128/s6/o28/C_06_28_240.png  \n",
            "  inflating: core50_data/core50_128x128/s6/o28/C_06_28_251.png  \n]
          "name": "stdout"
        }
      ]
    },
    {
      "cell_type": "code",
      "metadata": {
        "id": "u5RVhBpftqkQ",
        "outputId": "3bd96214-dc0d-493a-b3a1-1256d2c31e42",
        "colab": {
          "base_uri": "https://localhost:8080/",
          "height": 34
        }
      },
      "source": [
        "% cd core50_data"
      ],
      "execution_count": 3,
      "outputs": [
        {
          "output_type": "stream",
          "text": [
            "/content/core50_data\n"
          ],
          "name": "stdout"
        }
      ]
    },
    {
      "cell_type": "code",
      "metadata": {
        "id": "oF79JBZCuN49"
      },
      "source": [
        "################################################################################\n",
        "## INSTALL CONDA ON GOOGLE COLAB\n",
        "################################################################################\n",
        "\n",
        "# ! wget https://repo.anaconda.com/miniconda/Miniconda3-py37_4.8.2-Linux-x86_64.sh\n",
        "# ! chmod +x Miniconda3-py37_4.8.2-Linux-x86_64.sh\n",
        "# ! bash ./Miniconda3-py37_4.8.2-Linux-x86_64.sh -b -f -p /usr/local\n",
        "# import sys\n",
        "# sys.path.append('/usr/local/lib/python3.7/site-packages/')"
      ],
      "execution_count": null,
      "outputs": []
    },
    {
      "cell_type": "code",
      "metadata": {
        "id": "enHJ7pjRV60F"
      },
      "source": [
        "# Download Dependencies\n",
        "\n",
        "# ! conda install pytorch\n",
        "# ! conda install -c pytorch torchvision\n",
        "# ! conda install numpy\n",
        "# ! conda install psutil\n",
        "# ! conda install pillow"
      ],
      "execution_count": null,
      "outputs": []
    },
    {
      "cell_type": "markdown",
      "metadata": {
        "id": "fAJCDoho_NST"
      },
      "source": [
        "## New Instances Model "
      ]
    },
    {
      "cell_type": "code",
      "metadata": {
        "id": "dcGL1yDrQdim",
        "outputId": "a1f86f55-f741-43d5-ec12-aad1bbb970ba",
        "colab": {
          "base_uri": "https://localhost:8080/",
          "height": 34
        }
      },
      "source": [
        "import torch\n",
        "import torch.nn as nn\n",
        "import torch.optim as optim \n",
        "from torch.optim import lr_scheduler\n",
        "import numpy as np\n",
        "import torchvision\n",
        "from torchvision import datasets, models, transforms\n",
        "import torch.utils.data as d_set\n",
        "import time\n",
        "import matplotlib.pyplot as plt\n",
        "import copy\n",
        "import os\n",
        "print(\"Torchvision Version: \",torchvision.__version__)"
      ],
      "execution_count": 2,
      "outputs": [
        {
          "output_type": "stream",
          "text": [
            "Torchvision Version:  0.7.0+cu101\n"
          ],
          "name": "stdout"
        }
      ]
    },
    {
      "cell_type": "markdown",
      "metadata": {
        "id": "DTjtxWEvErHy"
      },
      "source": [
        "## Data\n",
        "\n",
        "I spent time reviewing the competition repo and felt I'd start from scratch. The competition code had a lot of infrastructure around evaluating performance and I didn't find it super intuative.  \n",
        "\n",
        "With that being said, I downloaded the data and for each session I moved images into training and testing folders. By doing that I could leverage the ImageFolder utility supplied by pytorch.\n",
        "\n",
        "To download the data wget commands above - however keep in mind that you change the directories accordingly. The working directory should be \"content/core50_data\" prior to running the reorganizing block."
      ]
    },
    {
      "cell_type": "code",
      "metadata": {
        "id": "T2-qjRvvCCjD",
        "outputId": "365045fa-afc5-4de1-d63f-12e537b63851",
        "colab": {
          "base_uri": "https://localhost:8080/",
          "height": 34
        }
      },
      "source": [
        "!pwd\n",
        "# % cd core50_data"
      ],
      "execution_count": null,
      "outputs": [
        {
          "output_type": "stream",
          "text": [
            "/content/core50_data\n"
          ],
          "name": "stdout"
        }
      ]
    },
    {
      "cell_type": "code",
      "metadata": {
        "id": "S2fPA3BINRwT",
        "outputId": "a0931535-c2dd-4859-d651-9c5ef83f492c",
        "colab": {
          "base_uri": "https://localhost:8080/",
          "height": 685
        }
      },
      "source": [
        "## Reorganizing Block ##\n",
        "## This reorganizes the folder structure and puts images in training and val folders\n",
        "## the process can take a while so for the purposes of this exercise I will only process 3 sessions\n",
        "session = 1\n",
        "while session < 12:\n",
        "  folder = f\"s{session}\"\n",
        "  wd = os.chdir(folder)\n",
        "  % mkdir val\n",
        "  % mkdir train\n",
        "\n",
        "  for fol in os.listdir(wd):\n",
        "    i = 0\n",
        "    print(fol)\n",
        "    if fol != \"train\" and fol != \"val\":\n",
        "      % mkdir val/{fol}\n",
        "      % mkdir train/{fol}\n",
        "      sub = os.chdir(f\"{fol}\")\n",
        "      for png_file in os.listdir(sub):\n",
        "        current_dir = os.getcwd()\n",
        "        file_path = f\"{current_dir}/{png_file}\"\n",
        "        \n",
        "        if i < 50:\n",
        "          % mv {file_path} /content/core50_data/{folder}/val/{fol}\n",
        "          i += 1 \n",
        "        else:\n",
        "          % cd ..\n",
        "          % mv {fol}/* /content/core50_data/{folder}/train/{fol}\n",
        "          i += 1 \n",
        "          break\n",
        "      % rm -rf `find -type d -name .ipynb_checkpoints`\n",
        "      \n",
        "    else:\n",
        "      continue\n",
        "      \n",
        "  print(\"next session\")\n",
        "  session += 1\n",
        "  % cd ..\n",
        "print(\"finished!\")"
      ],
      "execution_count": null,
      "outputs": [
        {
          "output_type": "stream",
          "text": [
            "o46\n",
            "o50\n"
          ],
          "name": "stdout"
        }
      ]
    },
    {
      "cell_type": "markdown",
      "metadata": {
        "id": "LVjlVv4NSY03"
      },
      "source": [
        "## Transfer Learning\n",
        "\n",
        "The Resnet-18 model was used in this workbook for the purposes of transfer learning. The pretrained model is supplied by PyTorch - there are a list of other options as well. The winning team of the CVRP - 2020 competition cited that they used the pretrained Densenet model (link to paper: https://arxiv.org/pdf/2007.05683.pdf).\n",
        "\n",
        "Additionally, the data was transformed in the following ways: center cropped, horizontally flipped, and normalized. "
      ]
    },
    {
      "cell_type": "code",
      "metadata": {
        "id": "HvjGVK-ZgM1P"
      },
      "source": [
        "# switch to False to use CPU\n",
        "use_cuda = True\n",
        "\n",
        "use_cuda = use_cuda and torch.cuda.is_available()\n",
        "device = torch.device(\"cuda\" if use_cuda else \"cpu\");\n",
        "torch.manual_seed(1);"
      ],
      "execution_count": 5,
      "outputs": []
    },
    {
      "cell_type": "code",
      "metadata": {
        "id": "03duSCAeadsf"
      },
      "source": [
        "def getData(session_num):\n",
        "  ## Imagenet normalization\n",
        "  data_transforms = {\n",
        "      'train': transforms.Compose([\n",
        "          transforms.RandomResizedCrop(224),\n",
        "          transforms.RandomHorizontalFlip(),\n",
        "          transforms.ToTensor(),\n",
        "          transforms.Normalize([0.485, 0.456, 0.406], [0.229, 0.224, 0.225])\n",
        "      ]),\n",
        "      'val': transforms.Compose([\n",
        "          transforms.Resize(256),\n",
        "          transforms.CenterCrop(224),\n",
        "          transforms.ToTensor(),\n",
        "          transforms.Normalize([0.485, 0.456, 0.406], [0.229, 0.224, 0.225])\n",
        "      ]),\n",
        "  }\n",
        "  data_dir = f's{session_num}'\n",
        "  sets = ['train','val']\n",
        "  image_datasets = {x: datasets.ImageFolder(os.path.join(data_dir,x),\n",
        "                                            data_transforms[x])\n",
        "                    for x in ['train','val']}\n",
        "  data_loaders = {x: torch.utils.data.DataLoader(image_datasets[x], batch_size=4,\n",
        "                                                 shuffle=True, num_workers=0)\n",
        "                  for x in ['train','val']}\n",
        "  dataset_sizes = {x: len(image_datasets[x]) for x in ['train', 'val']}\n",
        "\n",
        "\n",
        "  class_names = image_datasets['val'].classes\n",
        "  print(class_names)\n",
        "\n",
        "  sample_sz = int(dataset_sizes['train']*.10)\n",
        "  \n",
        "  memory, nothing = torch.utils.data.random_split(image_datasets['train'], [sample_sz, dataset_sizes['train']-sample_sz])\n",
        "  mem_loaders = {'train': torch.utils.data.DataLoader(memory, batch_size=4,\n",
        "                                                  shuffle=True, num_workers=0),\n",
        "                 'val':[]}\n",
        "  data = {'image_datasets':image_datasets,'data_loaders':data_loaders,\n",
        "          'dataset_sizes':dataset_sizes, 'class_names':class_names,'data_dir':data_dir,\n",
        "          'data_transforms':data_transforms,'mem_loaders':mem_loaders,'mem_sz':sample_sz}\n",
        "  return data\n",
        "  \n",
        "class_list = ('o1', 'o10', 'o11', 'o12', 'o13', 'o14', 'o15', 'o16', 'o17', 'o18', 'o19', 'o2', 'o20', 'o21', 'o22', 'o23', 'o24', 'o25', 'o26', 'o27', 'o28', 'o29', 'o3', 'o30', 'o31', 'o32', 'o33', 'o34', 'o35', 'o36', 'o37', 'o38', 'o39', 'o4', 'o40', 'o41', 'o42', 'o43', 'o44', 'o45', 'o46', 'o47', 'o48', 'o49', 'o5', 'o50', 'o6', 'o7', 'o8', 'o9')\n"
      ],
      "execution_count": 87,
      "outputs": []
    },
    {
      "cell_type": "code",
      "metadata": {
        "id": "nQMJFqlVsEdp",
        "outputId": "3b819ec3-f755-48a7-ed1a-21f352bc67a9",
        "colab": {
          "base_uri": "https://localhost:8080/",
          "height": 87
        }
      },
      "source": [
        "data1 = getData(session_num=1)\n",
        "data2 = getData(session_num=2)\n",
        "data3 = getData(session_num=3)"
      ],
      "execution_count": 88,
      "outputs": [
        {
          "output_type": "stream",
          "text": [
            "['o1', 'o10', 'o11', 'o12', 'o13', 'o14', 'o15', 'o16', 'o17', 'o18', 'o19', 'o2', 'o20', 'o21', 'o22', 'o23', 'o24', 'o25', 'o26', 'o27', 'o28', 'o29', 'o3', 'o30', 'o31', 'o32', 'o33', 'o34', 'o35', 'o36', 'o37', 'o38', 'o39', 'o4', 'o40', 'o41', 'o42', 'o43', 'o44', 'o45', 'o46', 'o47', 'o48', 'o49', 'o5', 'o50', 'o6', 'o7', 'o8', 'o9']\n",
            "['o1', 'o10', 'o11', 'o12', 'o13', 'o14', 'o15', 'o16', 'o17', 'o18', 'o19', 'o2', 'o20', 'o21', 'o22', 'o23', 'o24', 'o25', 'o26', 'o27', 'o28', 'o29', 'o3', 'o30', 'o31', 'o32', 'o33', 'o34', 'o35', 'o36', 'o37', 'o38', 'o39', 'o4', 'o40', 'o41', 'o42', 'o43', 'o44', 'o45', 'o46', 'o47', 'o48', 'o49', 'o5', 'o50', 'o6', 'o7', 'o8', 'o9']\n",
            "['o1', 'o10', 'o11', 'o12', 'o13', 'o14', 'o15', 'o16', 'o17', 'o18', 'o19', 'o2', 'o20', 'o21', 'o22', 'o23', 'o24', 'o25', 'o26', 'o27', 'o28', 'o29', 'o3', 'o30', 'o31', 'o32', 'o33', 'o34', 'o35', 'o36', 'o37', 'o38', 'o39', 'o4', 'o40', 'o41', 'o42', 'o43', 'o44', 'o45', 'o46', 'o47', 'o48', 'o49', 'o5', 'o50', 'o6', 'o7', 'o8', 'o9']\n"
          ],
          "name": "stdout"
        }
      ]
    },
    {
      "cell_type": "code",
      "metadata": {
        "id": "Z2hvwzFR3Wdu"
      },
      "source": [
        ""
      ],
      "execution_count": null,
      "outputs": []
    },
    {
      "cell_type": "code",
      "metadata": {
        "id": "riFdGX8mwz4U"
      },
      "source": [
        "def imshow(inp, title):\n",
        "  mean = np.array([0.5, 0.5, 0.5])\n",
        "  std = np.array([0.25, 0.25, 0.25])\n",
        "  \"\"\"Imshow for Tensor.\"\"\"\n",
        "  inp = inp.numpy().transpose((1, 2, 0))\n",
        "  inp = std * inp + mean\n",
        "  inp = np.clip(inp, 0, 1)\n",
        "  plt.imshow(inp)\n",
        "  plt.title(title)\n",
        "  plt.show()"
      ],
      "execution_count": 9,
      "outputs": []
    },
    {
      "cell_type": "markdown",
      "metadata": {
        "id": "vHHXUKsj__TS"
      },
      "source": [
        "## Training\n",
        "\n",
        "The training will be in batches of 4. "
      ]
    },
    {
      "cell_type": "code",
      "metadata": {
        "id": "zfGwdHG_gbVI",
        "outputId": "9f461e7d-85b9-419f-cc8e-0f0e898aca10",
        "colab": {
          "base_uri": "https://localhost:8080/",
          "height": 148
        }
      },
      "source": [
        "# Get a batch of training data\n",
        "inputs, classes = next(iter(data1['data_loaders']['train']))\n",
        "\n",
        "# Make a grid from batch\n",
        "out = torchvision.utils.make_grid(inputs)\n",
        "\n",
        "imshow(out, title=[data1['class_names'][x] for x in classes])\n"
      ],
      "execution_count": 11,
      "outputs": [
        {
          "output_type": "display_data",
          "data": {
            "image/png": "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\n",
            "text/plain": [
              "<Figure size 432x288 with 1 Axes>"
            ]
          },
          "metadata": {
            "tags": [],
            "needs_background": "light"
          }
        }
      ]
    },
    {
      "cell_type": "code",
      "metadata": {
        "id": "impJVrlExeuE"
      },
      "source": [
        "## I made slight adjustments to the code found in the pytorch tutorial\n",
        "## https://pytorch.org/tutorials/beginner/finetuning_torchvision_models_tutorial.html\n",
        "\n",
        "def train_model(model, dataloaders, criterion, optimizer, scheduler, num_epochs, is_inception=False):\n",
        "    since = time.time()\n",
        "\n",
        "    val_acc_history = []\n",
        "\n",
        "    best_model_wts = copy.deepcopy(model.state_dict())\n",
        "    best_acc = 0.0\n",
        "\n",
        "    for epoch in range(num_epochs):\n",
        "        print('Epoch {}/{}'.format(epoch, num_epochs - 1))\n",
        "        print('-' * 10)\n",
        "\n",
        "        # Each epoch has a training and validation phase\n",
        "        for phase in ['train', 'val']:\n",
        "            if phase == 'train':\n",
        "                model.train()  # Set model to training mode\n",
        "            else:\n",
        "                model.eval()   # Set model to evaluate mode\n",
        "\n",
        "            running_loss = 0.0\n",
        "            running_corrects = 0\n",
        "            count = 0\n",
        "            # Iterate over data.\n",
        "            for d in dataloaders:\n",
        "              count += 1\n",
        "              if count > 1 and phase == 'val':\n",
        "                break\n",
        "              else:\n",
        "                for inputs, labels in d[phase]:\n",
        "                    inputs = inputs.to(device)\n",
        "                    labels = labels.to(device)\n",
        "\n",
        "                    # zero the parameter gradients\n",
        "                    optimizer.zero_grad()\n",
        "\n",
        "                    # forward\n",
        "                    # track history if only in train\n",
        "                    with torch.set_grad_enabled(phase == 'train'):\n",
        "                        # Get model outputs and calculate loss\n",
        "                        # Special case for inception because in training it has an auxiliary output. In train\n",
        "                        #   mode we calculate the loss by summing the final output and the auxiliary output\n",
        "                        #   but in testing we only consider the final output.\n",
        "                        if is_inception and phase == 'train':\n",
        "                            # From https://discuss.pytorch.org/t/how-to-optimize-inception-model-with-auxiliary-classifiers/7958\n",
        "                            outputs, aux_outputs = model(inputs)\n",
        "                            loss1 = criterion(outputs, labels)\n",
        "                            loss2 = criterion(aux_outputs, labels)\n",
        "                            loss = loss1 + 0.4*loss2\n",
        "                        else:\n",
        "                            outputs = model(inputs)\n",
        "                            loss = criterion(outputs, labels)\n",
        "\n",
        "                        _, preds = torch.max(outputs, 1)\n",
        "\n",
        "                        # backward + optimize only if in training phase\n",
        "                        if phase == 'train':\n",
        "                            loss.backward()\n",
        "                            optimizer.step()\n",
        "\n",
        "                    # statistics\n",
        "                    running_loss += loss.item() * inputs.size(0)\n",
        "                    running_corrects += torch.sum(preds == labels.data)\n",
        "\n",
        "            if phase == 'train':\n",
        "                scheduler.step()\n",
        "                size = len(dataloaders[0][phase].dataset)+len(dataloaders[1][phase].dataset)\n",
        "            else:\n",
        "              size = len(dataloaders[0][phase].dataset)\n",
        "\n",
        "            epoch_loss = running_loss / size\n",
        "            epoch_acc = running_corrects.double() / size\n",
        "\n",
        "            print('{} Loss: {:.4f} Acc: {:.4f}'.format(phase, epoch_loss, epoch_acc))\n",
        "\n",
        "            # deep copy the model\n",
        "            if phase == 'val' and epoch_acc > best_acc:\n",
        "                best_acc = epoch_acc\n",
        "                best_model_wts = copy.deepcopy(model.state_dict())\n",
        "            if phase == 'val':\n",
        "                val_acc_history.append(epoch_acc)\n",
        "\n",
        "        print()\n",
        "\n",
        "    time_elapsed = time.time() - since\n",
        "    print('Training complete in {:.0f}m {:.0f}s'.format(time_elapsed // 60, time_elapsed % 60))\n",
        "    print('Best val Acc: {:4f}'.format(best_acc))\n",
        "\n",
        "    # load best model weights\n",
        "    model.load_state_dict(best_model_wts)\n",
        "    return model, val_acc_history"
      ],
      "execution_count": 92,
      "outputs": []
    },
    {
      "cell_type": "markdown",
      "metadata": {
        "id": "NkyY35j5AOIm"
      },
      "source": [
        "## Pretrained Model\n",
        "\n",
        "Here is where the Resnet model is initialized"
      ]
    },
    {
      "cell_type": "code",
      "metadata": {
        "id": "dV4aEZPs9Sbf",
        "outputId": "44dd4b6e-44ad-49dd-d660-a24a193f6521",
        "colab": {
          "base_uri": "https://localhost:8080/",
          "height": 1000
        }
      },
      "source": [
        "def initialize_model(num_classes, use_pretrained=True):\n",
        "    # Initialize these variables which will be set in this if statement. Each of these\n",
        "    #   variables is model specific.\n",
        "    model_ft = None\n",
        "    input_size = 0\n",
        "\n",
        "    \"\"\" Resnet18\n",
        "    \"\"\"\n",
        "    model_ft = models.resnet18(pretrained=use_pretrained)\n",
        "    num_ftrs = model_ft.fc.in_features\n",
        "    model_ft.fc = nn.Linear(num_ftrs, num_classes)\n",
        "    input_size = 224\n",
        "    return model_ft, input_size\n",
        "\n",
        "# Initialize the model for this run\n",
        "model_ft, input_size = initialize_model(50, use_pretrained=True)\n",
        "\n",
        "# Print the model we just instantiated\n",
        "print(model_ft)"
      ],
      "execution_count": 58,
      "outputs": [
        {
          "output_type": "stream",
          "text": [
            "ResNet(\n",
            "  (conv1): Conv2d(3, 64, kernel_size=(7, 7), stride=(2, 2), padding=(3, 3), bias=False)\n",
            "  (bn1): BatchNorm2d(64, eps=1e-05, momentum=0.1, affine=True, track_running_stats=True)\n",
            "  (relu): ReLU(inplace=True)\n",
            "  (maxpool): MaxPool2d(kernel_size=3, stride=2, padding=1, dilation=1, ceil_mode=False)\n",
            "  (layer1): Sequential(\n",
            "    (0): BasicBlock(\n",
            "      (conv1): Conv2d(64, 64, kernel_size=(3, 3), stride=(1, 1), padding=(1, 1), bias=False)\n",
            "      (bn1): BatchNorm2d(64, eps=1e-05, momentum=0.1, affine=True, track_running_stats=True)\n",
            "      (relu): ReLU(inplace=True)\n",
            "      (conv2): Conv2d(64, 64, kernel_size=(3, 3), stride=(1, 1), padding=(1, 1), bias=False)\n",
            "      (bn2): BatchNorm2d(64, eps=1e-05, momentum=0.1, affine=True, track_running_stats=True)\n",
            "    )\n",
            "    (1): BasicBlock(\n",
            "      (conv1): Conv2d(64, 64, kernel_size=(3, 3), stride=(1, 1), padding=(1, 1), bias=False)\n",
            "      (bn1): BatchNorm2d(64, eps=1e-05, momentum=0.1, affine=True, track_running_stats=True)\n",
            "      (relu): ReLU(inplace=True)\n",
            "      (conv2): Conv2d(64, 64, kernel_size=(3, 3), stride=(1, 1), padding=(1, 1), bias=False)\n",
            "      (bn2): BatchNorm2d(64, eps=1e-05, momentum=0.1, affine=True, track_running_stats=True)\n",
            "    )\n",
            "  )\n",
            "  (layer2): Sequential(\n",
            "    (0): BasicBlock(\n",
            "      (conv1): Conv2d(64, 128, kernel_size=(3, 3), stride=(2, 2), padding=(1, 1), bias=False)\n",
            "      (bn1): BatchNorm2d(128, eps=1e-05, momentum=0.1, affine=True, track_running_stats=True)\n",
            "      (relu): ReLU(inplace=True)\n",
            "      (conv2): Conv2d(128, 128, kernel_size=(3, 3), stride=(1, 1), padding=(1, 1), bias=False)\n",
            "      (bn2): BatchNorm2d(128, eps=1e-05, momentum=0.1, affine=True, track_running_stats=True)\n",
            "      (downsample): Sequential(\n",
            "        (0): Conv2d(64, 128, kernel_size=(1, 1), stride=(2, 2), bias=False)\n",
            "        (1): BatchNorm2d(128, eps=1e-05, momentum=0.1, affine=True, track_running_stats=True)\n",
            "      )\n",
            "    )\n",
            "    (1): BasicBlock(\n",
            "      (conv1): Conv2d(128, 128, kernel_size=(3, 3), stride=(1, 1), padding=(1, 1), bias=False)\n",
            "      (bn1): BatchNorm2d(128, eps=1e-05, momentum=0.1, affine=True, track_running_stats=True)\n",
            "      (relu): ReLU(inplace=True)\n",
            "      (conv2): Conv2d(128, 128, kernel_size=(3, 3), stride=(1, 1), padding=(1, 1), bias=False)\n",
            "      (bn2): BatchNorm2d(128, eps=1e-05, momentum=0.1, affine=True, track_running_stats=True)\n",
            "    )\n",
            "  )\n",
            "  (layer3): Sequential(\n",
            "    (0): BasicBlock(\n",
            "      (conv1): Conv2d(128, 256, kernel_size=(3, 3), stride=(2, 2), padding=(1, 1), bias=False)\n",
            "      (bn1): BatchNorm2d(256, eps=1e-05, momentum=0.1, affine=True, track_running_stats=True)\n",
            "      (relu): ReLU(inplace=True)\n",
            "      (conv2): Conv2d(256, 256, kernel_size=(3, 3), stride=(1, 1), padding=(1, 1), bias=False)\n",
            "      (bn2): BatchNorm2d(256, eps=1e-05, momentum=0.1, affine=True, track_running_stats=True)\n",
            "      (downsample): Sequential(\n",
            "        (0): Conv2d(128, 256, kernel_size=(1, 1), stride=(2, 2), bias=False)\n",
            "        (1): BatchNorm2d(256, eps=1e-05, momentum=0.1, affine=True, track_running_stats=True)\n",
            "      )\n",
            "    )\n",
            "    (1): BasicBlock(\n",
            "      (conv1): Conv2d(256, 256, kernel_size=(3, 3), stride=(1, 1), padding=(1, 1), bias=False)\n",
            "      (bn1): BatchNorm2d(256, eps=1e-05, momentum=0.1, affine=True, track_running_stats=True)\n",
            "      (relu): ReLU(inplace=True)\n",
            "      (conv2): Conv2d(256, 256, kernel_size=(3, 3), stride=(1, 1), padding=(1, 1), bias=False)\n",
            "      (bn2): BatchNorm2d(256, eps=1e-05, momentum=0.1, affine=True, track_running_stats=True)\n",
            "    )\n",
            "  )\n",
            "  (layer4): Sequential(\n",
            "    (0): BasicBlock(\n",
            "      (conv1): Conv2d(256, 512, kernel_size=(3, 3), stride=(2, 2), padding=(1, 1), bias=False)\n",
            "      (bn1): BatchNorm2d(512, eps=1e-05, momentum=0.1, affine=True, track_running_stats=True)\n",
            "      (relu): ReLU(inplace=True)\n",
            "      (conv2): Conv2d(512, 512, kernel_size=(3, 3), stride=(1, 1), padding=(1, 1), bias=False)\n",
            "      (bn2): BatchNorm2d(512, eps=1e-05, momentum=0.1, affine=True, track_running_stats=True)\n",
            "      (downsample): Sequential(\n",
            "        (0): Conv2d(256, 512, kernel_size=(1, 1), stride=(2, 2), bias=False)\n",
            "        (1): BatchNorm2d(512, eps=1e-05, momentum=0.1, affine=True, track_running_stats=True)\n",
            "      )\n",
            "    )\n",
            "    (1): BasicBlock(\n",
            "      (conv1): Conv2d(512, 512, kernel_size=(3, 3), stride=(1, 1), padding=(1, 1), bias=False)\n",
            "      (bn1): BatchNorm2d(512, eps=1e-05, momentum=0.1, affine=True, track_running_stats=True)\n",
            "      (relu): ReLU(inplace=True)\n",
            "      (conv2): Conv2d(512, 512, kernel_size=(3, 3), stride=(1, 1), padding=(1, 1), bias=False)\n",
            "      (bn2): BatchNorm2d(512, eps=1e-05, momentum=0.1, affine=True, track_running_stats=True)\n",
            "    )\n",
            "  )\n",
            "  (avgpool): AdaptiveAvgPool2d(output_size=(1, 1))\n",
            "  (fc): Linear(in_features=512, out_features=50, bias=True)\n",
            ")\n"
          ],
          "name": "stdout"
        }
      ]
    },
    {
      "cell_type": "markdown",
      "metadata": {
        "id": "neYqyrWYA2sd"
      },
      "source": [
        "## Fine Tuning\n",
        "\n",
        "The resnet layers are preserved except for last which is adjusted to output 50 classes. A step scheduler was also added to adjust the learning rate."
      ]
    },
    {
      "cell_type": "code",
      "metadata": {
        "id": "GUwTbFGex8oo",
        "outputId": "aebcd45f-0b61-4db1-d8cc-908da96f7471",
        "colab": {
          "base_uri": "https://localhost:8080/",
          "height": 890
        }
      },
      "source": [
        "#### Finetuning the convnet ####\n",
        "# Load a pretrained model and reset final fully connected layer.\n",
        "dataloaders = [data1['data_loaders']]\n",
        "model_ft = model_ft.to(device)\n",
        "\n",
        "criterion = nn.CrossEntropyLoss()\n",
        "\n",
        "# Observe that all parameters are being optimized\n",
        "optimizer = optim.SGD(model_ft.parameters(), lr=0.001)\n",
        "\n",
        "step_lr_scheduler = lr_scheduler.StepLR(optimizer, step_size=7, gamma=0.1)\n",
        "\n",
        "model1, history = train_model(model_ft, dataloaders, criterion, optimizer, step_lr_scheduler, num_epochs=10)"
      ],
      "execution_count": 70,
      "outputs": [
        {
          "output_type": "stream",
          "text": [
            "Epoch 0/9\n",
            "----------\n",
            "train Loss: 1.2077 Acc: 0.7768\n",
            "val Loss: 0.1869 Acc: 0.9432\n",
            "\n",
            "Epoch 1/9\n",
            "----------\n",
            "train Loss: 0.8263 Acc: 0.8346\n",
            "val Loss: 0.0963 Acc: 0.9764\n",
            "\n",
            "Epoch 2/9\n",
            "----------\n",
            "train Loss: 0.6447 Acc: 0.8692\n",
            "val Loss: 0.0608 Acc: 0.9804\n",
            "\n",
            "Epoch 3/9\n",
            "----------\n",
            "train Loss: 0.5552 Acc: 0.8805\n",
            "val Loss: 0.0438 Acc: 0.9868\n",
            "\n",
            "Epoch 4/9\n",
            "----------\n",
            "train Loss: 0.4749 Acc: 0.8977\n",
            "val Loss: 0.0291 Acc: 0.9892\n",
            "\n",
            "Epoch 5/9\n",
            "----------\n",
            "train Loss: 0.4285 Acc: 0.9048\n",
            "val Loss: 0.0213 Acc: 0.9920\n",
            "\n",
            "Epoch 6/9\n",
            "----------\n",
            "train Loss: 0.3885 Acc: 0.9118\n",
            "val Loss: 0.0139 Acc: 0.9956\n",
            "\n",
            "Epoch 7/9\n",
            "----------\n",
            "train Loss: 0.3888 Acc: 0.9125\n",
            "val Loss: 0.0134 Acc: 0.9952\n",
            "\n",
            "Epoch 8/9\n",
            "----------\n",
            "train Loss: 0.3691 Acc: 0.9189\n",
            "val Loss: 0.0165 Acc: 0.9944\n",
            "\n",
            "Epoch 9/9\n",
            "----------\n",
            "train Loss: 0.3805 Acc: 0.9141\n",
            "val Loss: 0.0124 Acc: 0.9964\n",
            "\n",
            "Training complete in 15m 11s\n",
            "Best val Acc: 0.996400\n"
          ],
          "name": "stdout"
        }
      ]
    },
    {
      "cell_type": "code",
      "metadata": {
        "id": "K9zf0nPga96s",
        "outputId": "7607db63-3dbd-468e-9e83-9c254f1de90d",
        "colab": {
          "base_uri": "https://localhost:8080/",
          "height": 34
        }
      },
      "source": [
        "ohist = [h.cpu().numpy() for h in history]\n",
        "print(ohist)"
      ],
      "execution_count": 71,
      "outputs": [
        {
          "output_type": "stream",
          "text": [
            "[array(0.9432), array(0.9764), array(0.9804), array(0.9868), array(0.9892), array(0.992), array(0.9956), array(0.9952), array(0.9944), array(0.9964)]\n"
          ],
          "name": "stdout"
        }
      ]
    },
    {
      "cell_type": "markdown",
      "metadata": {
        "id": "dNBQVatQWqxI"
      },
      "source": [
        "## Evaluating the model on the next session\n",
        "\n",
        "I wanted to show the results on the next session to see how well it generalizes. The sessions are images and sessions are differentiated based on backgroundand object placement, so I'm not expecting the model to do particularly well on the new data."
      ]
    },
    {
      "cell_type": "code",
      "metadata": {
        "id": "2zEmPfzXdV-5",
        "outputId": "8c6f3063-ba4e-430d-96c0-ede563d408cc",
        "colab": {
          "base_uri": "https://localhost:8080/",
          "height": 148
        }
      },
      "source": [
        "# evaluate model:\n",
        "model1.eval()\n",
        "# Get a batch of training data\n",
        "inputs, labels = next(iter(data2['data_loaders']['val']))\n",
        "\n",
        "# Make a grid from batch\n",
        "out = torchvision.utils.make_grid(inputs)\n",
        "\n",
        "imshow(out, title=[data2['class_names'][x] for x in labels])"
      ],
      "execution_count": 72,
      "outputs": [
        {
          "output_type": "display_data",
          "data": {
            "image/png": "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\n",
            "text/plain": [
              "<Figure size 432x288 with 1 Axes>"
            ]
          },
          "metadata": {
            "tags": [],
            "needs_background": "light"
          }
        }
      ]
    },
    {
      "cell_type": "code",
      "metadata": {
        "id": "biGl9tNNNr9B",
        "outputId": "15fd5fe7-6473-4f51-def0-69b1bacfc3f4",
        "colab": {
          "base_uri": "https://localhost:8080/",
          "height": 34
        }
      },
      "source": [
        "inputs, labels = inputs.cuda(), labels.cuda()\n",
        "outputs = model1(inputs)\n",
        "\n",
        "_, predicted = torch.max(outputs, 1)\n",
        "\n",
        "print('Predicted: ', ' '.join('%5s' % class_list[j]\n",
        "                              for j in predicted))"
      ],
      "execution_count": 73,
      "outputs": [
        {
          "output_type": "stream",
          "text": [
            "Predicted:     o3   o29   o26    o4\n"
          ],
          "name": "stdout"
        }
      ]
    },
    {
      "cell_type": "code",
      "metadata": {
        "id": "yfoTQMDMVTqx",
        "outputId": "c12d4b76-23a2-4d18-f53e-513974c4f503",
        "colab": {
          "base_uri": "https://localhost:8080/",
          "height": 34
        }
      },
      "source": [
        "correct = 0\n",
        "total = 0\n",
        "with torch.no_grad():\n",
        "    for data in data2['data_loaders']['train']:\n",
        "        images, labels = data\n",
        "        images, labels = images.cuda(), labels.cuda()\n",
        "        outputs = model1(images)\n",
        "        _, predicted = torch.max(outputs.data, 1)\n",
        "        total += labels.size(0)\n",
        "        correct += (predicted == labels).sum().item()\n",
        "\n",
        "print('Accuracy of the network on session 2 images: %d %%' % (\n",
        "    100 * correct / total))"
      ],
      "execution_count": 74,
      "outputs": [
        {
          "output_type": "stream",
          "text": [
            "Accuracy of the network on session 2 images: 65 %\n"
          ],
          "name": "stdout"
        }
      ]
    },
    {
      "cell_type": "markdown",
      "metadata": {
        "id": "qQVrfCYwqxOQ"
      },
      "source": [
        "The model performed with 65% accuracy on the new data - so it's clear it doesnt generalize well across sessions and will require training."
      ]
    },
    {
      "cell_type": "markdown",
      "metadata": {
        "id": "g5Rjae4gXYxr"
      },
      "source": [
        "## Training the model on new data\n",
        "\n",
        "In this section we will not employ any CL techniques - the approach will be to just train on the next session - this might be considered the naive approach. It can be expected that it will forget how to classify the images from the first session. The phenomenon is generally referred to as catastrophic forgetting."
      ]
    },
    {
      "cell_type": "code",
      "metadata": {
        "id": "a9efaMCtWQWR",
        "outputId": "2ce16b46-f8fc-468c-ac1d-3a70e5cd17db",
        "colab": {
          "base_uri": "https://localhost:8080/",
          "height": 890
        }
      },
      "source": [
        "model1.train()\n",
        "dataloaders = [data2['data_loaders']]\n",
        "model2, history = train_model(model1, dataloaders, criterion, optimizer, step_lr_scheduler, num_epochs=10)"
      ],
      "execution_count": 75,
      "outputs": [
        {
          "output_type": "stream",
          "text": [
            "Epoch 0/9\n",
            "----------\n",
            "train Loss: 1.1181 Acc: 0.7192\n",
            "val Loss: 0.2643 Acc: 0.9152\n",
            "\n",
            "Epoch 1/9\n",
            "----------\n",
            "train Loss: 0.9364 Acc: 0.7658\n",
            "val Loss: 0.1853 Acc: 0.9404\n",
            "\n",
            "Epoch 2/9\n",
            "----------\n",
            "train Loss: 0.8420 Acc: 0.7919\n",
            "val Loss: 0.1353 Acc: 0.9556\n",
            "\n",
            "Epoch 3/9\n",
            "----------\n",
            "train Loss: 0.7931 Acc: 0.8072\n",
            "val Loss: 0.1127 Acc: 0.9616\n",
            "\n",
            "Epoch 4/9\n",
            "----------\n",
            "train Loss: 0.7555 Acc: 0.8176\n",
            "val Loss: 0.1104 Acc: 0.9632\n",
            "\n",
            "Epoch 5/9\n",
            "----------\n",
            "train Loss: 0.7586 Acc: 0.8194\n",
            "val Loss: 0.1098 Acc: 0.9632\n",
            "\n",
            "Epoch 6/9\n",
            "----------\n",
            "train Loss: 0.7517 Acc: 0.8201\n",
            "val Loss: 0.1184 Acc: 0.9600\n",
            "\n",
            "Epoch 7/9\n",
            "----------\n",
            "train Loss: 0.7384 Acc: 0.8237\n",
            "val Loss: 0.1065 Acc: 0.9632\n",
            "\n",
            "Epoch 8/9\n",
            "----------\n",
            "train Loss: 0.7491 Acc: 0.8204\n",
            "val Loss: 0.1079 Acc: 0.9644\n",
            "\n",
            "Epoch 9/9\n",
            "----------\n",
            "train Loss: 0.7211 Acc: 0.8292\n",
            "val Loss: 0.1078 Acc: 0.9640\n",
            "\n",
            "Training complete in 15m 7s\n",
            "Best val Acc: 0.964400\n"
          ],
          "name": "stdout"
        }
      ]
    },
    {
      "cell_type": "code",
      "metadata": {
        "id": "tZMXenleblmZ"
      },
      "source": [
        "## Testing on session 1 after being retrained\n",
        "def predict(dataloaders,model):\n",
        "  model.eval()\n",
        "  correct = 0\n",
        "  total = 0\n",
        "  with torch.no_grad():\n",
        "      for data in dataloaders:\n",
        "          images, labels = data\n",
        "          images, labels = images.cuda(), labels.cuda()\n",
        "          outputs = model(images)\n",
        "          _, predicted = torch.max(outputs.data, 1)\n",
        "          total += labels.size(0)\n",
        "          correct += (predicted == labels).sum().item()\n",
        "\n",
        "  print('Accuracy of the network on session 1 images: %d %%' % (\n",
        "      100 * correct / total))"
      ],
      "execution_count": 76,
      "outputs": []
    },
    {
      "cell_type": "code",
      "metadata": {
        "id": "bp9o_8Q9jmRF",
        "outputId": "dad0b31b-dee9-415c-c225-d0c6aba13e32",
        "colab": {
          "base_uri": "https://localhost:8080/",
          "height": 34
        }
      },
      "source": [
        "predict(data1['data_loaders']['train'],model2)"
      ],
      "execution_count": 77,
      "outputs": [
        {
          "output_type": "stream",
          "text": [
            "Accuracy of the network on session 1 images: 91 %\n"
          ],
          "name": "stdout"
        }
      ]
    },
    {
      "cell_type": "code",
      "metadata": {
        "id": "O9s316PXgXI7",
        "outputId": "69dccc89-b8a5-4110-d27f-836a55f660ed",
        "colab": {
          "base_uri": "https://localhost:8080/",
          "height": 890
        }
      },
      "source": [
        "## Training on session 3 - looking to see if this hurts session 1's predictions even more\n",
        "model2.train()\n",
        "dataloaders = [data3['data_loaders']]\n",
        "model3, history = train_model(model2, dataloaders, criterion, optimizer, step_lr_scheduler, num_epochs=10)"
      ],
      "execution_count": 78,
      "outputs": [
        {
          "output_type": "stream",
          "text": [
            "Epoch 0/9\n",
            "----------\n",
            "train Loss: 1.0808 Acc: 0.7156\n",
            "val Loss: 0.3648 Acc: 0.8884\n",
            "\n",
            "Epoch 1/9\n",
            "----------\n",
            "train Loss: 1.0255 Acc: 0.7317\n",
            "val Loss: 0.3662 Acc: 0.8804\n",
            "\n",
            "Epoch 2/9\n",
            "----------\n",
            "train Loss: 1.0201 Acc: 0.7321\n",
            "val Loss: 0.3667 Acc: 0.8800\n",
            "\n",
            "Epoch 3/9\n",
            "----------\n",
            "train Loss: 1.0505 Acc: 0.7241\n",
            "val Loss: 0.3700 Acc: 0.8756\n",
            "\n",
            "Epoch 4/9\n",
            "----------\n",
            "train Loss: 1.0282 Acc: 0.7282\n",
            "val Loss: 0.3700 Acc: 0.8796\n",
            "\n",
            "Epoch 5/9\n",
            "----------\n",
            "train Loss: 1.0278 Acc: 0.7321\n",
            "val Loss: 0.3771 Acc: 0.8784\n",
            "\n",
            "Epoch 6/9\n",
            "----------\n",
            "train Loss: 1.0199 Acc: 0.7317\n",
            "val Loss: 0.3644 Acc: 0.8868\n",
            "\n",
            "Epoch 7/9\n",
            "----------\n",
            "train Loss: 1.0254 Acc: 0.7304\n",
            "val Loss: 0.3483 Acc: 0.8908\n",
            "\n",
            "Epoch 8/9\n",
            "----------\n",
            "train Loss: 1.0039 Acc: 0.7357\n",
            "val Loss: 0.3504 Acc: 0.8892\n",
            "\n",
            "Epoch 9/9\n",
            "----------\n",
            "train Loss: 1.0243 Acc: 0.7315\n",
            "val Loss: 0.3599 Acc: 0.8916\n",
            "\n",
            "Training complete in 15m 4s\n",
            "Best val Acc: 0.891600\n"
          ],
          "name": "stdout"
        }
      ]
    },
    {
      "cell_type": "code",
      "metadata": {
        "id": "J4OPogtaiGqG",
        "outputId": "617080b0-bfb9-4cf9-eb81-299b98da11c8",
        "colab": {
          "base_uri": "https://localhost:8080/",
          "height": 34
        }
      },
      "source": [
        "## prediction after two new sessions\n",
        "predict(data1['data_loaders']['train'],model3)"
      ],
      "execution_count": 80,
      "outputs": [
        {
          "output_type": "stream",
          "text": [
            "Accuracy of the network on session 1 images: 84 %\n"
          ],
          "name": "stdout"
        }
      ]
    },
    {
      "cell_type": "markdown",
      "metadata": {
        "id": "Jy5TIewAc5-t"
      },
      "source": [
        "\n",
        "The model accuracy on session 1 decreased slightly."
      ]
    },
    {
      "cell_type": "markdown",
      "metadata": {
        "id": "x6eoCG1nfFhP"
      },
      "source": [
        "## Continual Learning - Replay Method\n",
        "\n",
        "I chose to use the replay approach also known as rehearsal. This methodology adds in the previously seen data in efforts to preserve the weights that have been optimized previously. In the winning strategy they also added in a batch that represent all the sessions at the very end - it was compared to studying everything the night before the test. \n",
        "\n",
        "Another methodology uses regularization. The regularization methods use the Fisher information matrix which helps preserve parameters that are important in predicting previous data."
      ]
    },
    {
      "cell_type": "code",
      "metadata": {
        "id": "lnrC_5wcfFy6",
        "outputId": "926681de-8709-4cab-c698-aea45148cc6f",
        "colab": {
          "base_uri": "https://localhost:8080/",
          "height": 890
        }
      },
      "source": [
        "## Replays memory by adding to the dataloader\n",
        "\n",
        "dataloaders = [data2['data_loaders'],data1['mem_loaders']]\n",
        "\n",
        "cl_model, history = train_model(model1, dataloaders, criterion, optimizer, step_lr_scheduler, num_epochs=10,mem_sz=data1['mem_sz'])"
      ],
      "execution_count": 47,
      "outputs": [
        {
          "output_type": "stream",
          "text": [
            "Epoch 0/9\n",
            "----------\n",
            "train Loss: 0.3926 Acc: 0.9159\n",
            "val Loss: 0.9987 Acc: 0.7196\n",
            "\n",
            "Epoch 1/9\n",
            "----------\n",
            "train Loss: 0.3993 Acc: 0.9103\n",
            "val Loss: 0.8745 Acc: 0.7416\n",
            "\n",
            "Epoch 2/9\n",
            "----------\n",
            "train Loss: 0.3639 Acc: 0.9215\n",
            "val Loss: 0.8441 Acc: 0.7500\n",
            "\n",
            "Epoch 3/9\n",
            "----------\n",
            "train Loss: 0.3924 Acc: 0.9071\n",
            "val Loss: 0.7595 Acc: 0.7656\n",
            "\n",
            "Epoch 4/9\n",
            "----------\n",
            "train Loss: 0.3906 Acc: 0.9159\n",
            "val Loss: 0.8995 Acc: 0.7344\n",
            "\n",
            "Epoch 5/9\n",
            "----------\n",
            "train Loss: 0.3882 Acc: 0.9207\n",
            "val Loss: 0.7389 Acc: 0.7664\n",
            "\n",
            "Epoch 6/9\n",
            "----------\n",
            "train Loss: 0.3953 Acc: 0.9103\n",
            "val Loss: 0.8462 Acc: 0.7476\n",
            "\n",
            "Epoch 7/9\n",
            "----------\n",
            "train Loss: 0.3819 Acc: 0.9087\n",
            "val Loss: 0.8431 Acc: 0.7448\n",
            "\n",
            "Epoch 8/9\n",
            "----------\n",
            "train Loss: 0.3939 Acc: 0.9167\n",
            "val Loss: 0.8626 Acc: 0.7444\n",
            "\n",
            "Epoch 9/9\n",
            "----------\n",
            "train Loss: 0.3912 Acc: 0.9159\n",
            "val Loss: 0.8719 Acc: 0.7436\n",
            "\n",
            "Training complete in 3m 4s\n",
            "Best val Acc: 0.766400\n"
          ],
          "name": "stdout"
        }
      ]
    },
    {
      "cell_type": "code",
      "metadata": {
        "id": "Wqo_TWRtfG9G",
        "outputId": "7f3b140c-0d6a-43e3-eff4-78c75a8a2a04",
        "colab": {
          "base_uri": "https://localhost:8080/",
          "height": 34
        }
      },
      "source": [
        "predict(data1['data_loaders']['train'],cl_model)"
      ],
      "execution_count": 48,
      "outputs": [
        {
          "output_type": "stream",
          "text": [
            "Accuracy of the network on session 1 images: 94 %\n"
          ],
          "name": "stdout"
        }
      ]
    },
    {
      "cell_type": "code",
      "metadata": {
        "id": "9lNATSaI9ZEW",
        "outputId": "14d92537-0cf8-4127-beef-4f6b7f17777b",
        "colab": {
          "base_uri": "https://localhost:8080/",
          "height": 1000
        }
      },
      "source": [
        "del model_ft\n",
        "\n",
        "cl_model, input_size = initialize_model(50, use_pretrained=True)\n",
        "cl_model = cl_model.to(device)\n",
        "optimizer = optim.SGD(cl_model.parameters(), lr=0.001)\n",
        "\n",
        "dataloaders1 = [data1['data_loaders']]\n",
        "dataloaders2 = [data2['data_loaders'],data1['mem_loaders']]\n",
        "\n",
        "cl_model, history = train_model(cl_model, dataloaders1, criterion, optimizer, step_lr_scheduler, num_epochs=10)\n"
      ],
      "execution_count": 86,
      "outputs": [
        {
          "output_type": "stream",
          "text": [
            "Epoch 0/9\n",
            "----------\n",
            "train Loss: 2.6488 Acc: 0.4649\n",
            "val Loss: 0.5231 Acc: 0.8916\n",
            "\n",
            "Epoch 1/9\n",
            "----------\n",
            "train Loss: 1.2153 Acc: 0.7760\n",
            "val Loss: 0.2144 Acc: 0.9480\n",
            "\n",
            "Epoch 2/9\n",
            "----------\n",
            "train Loss: 0.8453 Acc: 0.8277\n",
            "val Loss: 0.0994 Acc: 0.9756\n",
            "\n",
            "Epoch 3/9\n",
            "----------\n",
            "train Loss: 0.6582 Acc: 0.8618\n",
            "val Loss: 0.0698 Acc: 0.9804\n",
            "\n",
            "Epoch 4/9\n",
            "----------\n",
            "train Loss: 0.5516 Acc: 0.8813\n",
            "val Loss: 0.0476 Acc: 0.9884\n",
            "\n",
            "Epoch 5/9\n",
            "----------\n",
            "train Loss: 0.4942 Acc: 0.8945\n",
            "val Loss: 0.0269 Acc: 0.9944\n",
            "\n",
            "Epoch 6/9\n",
            "----------\n",
            "train Loss: 0.4394 Acc: 0.9038\n",
            "val Loss: 0.0208 Acc: 0.9948\n",
            "\n",
            "Epoch 7/9\n",
            "----------\n",
            "train Loss: 0.4151 Acc: 0.9072\n",
            "val Loss: 0.0116 Acc: 0.9976\n",
            "\n",
            "Epoch 8/9\n",
            "----------\n",
            "train Loss: 0.3668 Acc: 0.9181\n",
            "val Loss: 0.0114 Acc: 0.9972\n",
            "\n",
            "Epoch 9/9\n",
            "----------\n",
            "train Loss: 0.3717 Acc: 0.9158\n",
            "val Loss: 0.0124 Acc: 0.9956\n",
            "\n",
            "Training complete in 15m 6s\n",
            "Best val Acc: 0.997600\n",
            "Epoch 0/9\n",
            "----------\n",
            "train Loss: 1256.7856 Acc: 1256.8389\n"
          ],
          "name": "stdout"
        },
        {
          "output_type": "error",
          "ename": "KeyError",
          "evalue": "ignored",
          "traceback": [
            "\u001b[0;31m---------------------------------------------------------------------------\u001b[0m",
            "\u001b[0;31mKeyError\u001b[0m                                  Traceback (most recent call last)",
            "\u001b[0;32m<ipython-input-86-133d4bebe4e7>\u001b[0m in \u001b[0;36m<module>\u001b[0;34m()\u001b[0m\n\u001b[1;32m      9\u001b[0m \u001b[0;34m\u001b[0m\u001b[0m\n\u001b[1;32m     10\u001b[0m \u001b[0mcl_model\u001b[0m\u001b[0;34m,\u001b[0m \u001b[0mhistory\u001b[0m \u001b[0;34m=\u001b[0m \u001b[0mtrain_model\u001b[0m\u001b[0;34m(\u001b[0m\u001b[0mcl_model\u001b[0m\u001b[0;34m,\u001b[0m \u001b[0mdataloaders1\u001b[0m\u001b[0;34m,\u001b[0m \u001b[0mcriterion\u001b[0m\u001b[0;34m,\u001b[0m \u001b[0moptimizer\u001b[0m\u001b[0;34m,\u001b[0m \u001b[0mstep_lr_scheduler\u001b[0m\u001b[0;34m,\u001b[0m \u001b[0mnum_epochs\u001b[0m\u001b[0;34m=\u001b[0m\u001b[0;36m10\u001b[0m\u001b[0;34m)\u001b[0m\u001b[0;34m\u001b[0m\u001b[0;34m\u001b[0m\u001b[0m\n\u001b[0;32m---> 11\u001b[0;31m \u001b[0mcl_model\u001b[0m\u001b[0;34m,\u001b[0m \u001b[0mhistory\u001b[0m \u001b[0;34m=\u001b[0m \u001b[0mtrain_model\u001b[0m\u001b[0;34m(\u001b[0m\u001b[0mcl_model\u001b[0m\u001b[0;34m,\u001b[0m \u001b[0mdataloaders2\u001b[0m\u001b[0;34m,\u001b[0m \u001b[0mcriterion\u001b[0m\u001b[0;34m,\u001b[0m \u001b[0moptimizer\u001b[0m\u001b[0;34m,\u001b[0m \u001b[0mstep_lr_scheduler\u001b[0m\u001b[0;34m,\u001b[0m \u001b[0mnum_epochs\u001b[0m\u001b[0;34m=\u001b[0m\u001b[0;36m10\u001b[0m\u001b[0;34m,\u001b[0m\u001b[0mmem_sz\u001b[0m\u001b[0;34m=\u001b[0m\u001b[0mdata1\u001b[0m\u001b[0;34m[\u001b[0m\u001b[0;34m'mem_sz'\u001b[0m\u001b[0;34m]\u001b[0m\u001b[0;34m)\u001b[0m\u001b[0;34m\u001b[0m\u001b[0;34m\u001b[0m\u001b[0m\n\u001b[0m",
            "\u001b[0;32m<ipython-input-69-d6ecd61d8555>\u001b[0m in \u001b[0;36mtrain_model\u001b[0;34m(model, dataloaders, criterion, optimizer, scheduler, num_epochs, is_inception, mem_sz)\u001b[0m\n\u001b[1;32m     26\u001b[0m             \u001b[0;31m# Iterate over data.\u001b[0m\u001b[0;34m\u001b[0m\u001b[0;34m\u001b[0m\u001b[0;34m\u001b[0m\u001b[0m\n\u001b[1;32m     27\u001b[0m             \u001b[0;32mfor\u001b[0m \u001b[0md\u001b[0m \u001b[0;32min\u001b[0m \u001b[0mdataloaders\u001b[0m\u001b[0;34m:\u001b[0m\u001b[0;34m\u001b[0m\u001b[0;34m\u001b[0m\u001b[0m\n\u001b[0;32m---> 28\u001b[0;31m               \u001b[0;32mfor\u001b[0m \u001b[0minputs\u001b[0m\u001b[0;34m,\u001b[0m \u001b[0mlabels\u001b[0m \u001b[0;32min\u001b[0m \u001b[0md\u001b[0m\u001b[0;34m[\u001b[0m\u001b[0mphase\u001b[0m\u001b[0;34m]\u001b[0m\u001b[0;34m:\u001b[0m\u001b[0;34m\u001b[0m\u001b[0;34m\u001b[0m\u001b[0m\n\u001b[0m\u001b[1;32m     29\u001b[0m                   \u001b[0minputs\u001b[0m \u001b[0;34m=\u001b[0m \u001b[0minputs\u001b[0m\u001b[0;34m.\u001b[0m\u001b[0mto\u001b[0m\u001b[0;34m(\u001b[0m\u001b[0mdevice\u001b[0m\u001b[0;34m)\u001b[0m\u001b[0;34m\u001b[0m\u001b[0;34m\u001b[0m\u001b[0m\n\u001b[1;32m     30\u001b[0m                   \u001b[0mlabels\u001b[0m \u001b[0;34m=\u001b[0m \u001b[0mlabels\u001b[0m\u001b[0;34m.\u001b[0m\u001b[0mto\u001b[0m\u001b[0;34m(\u001b[0m\u001b[0mdevice\u001b[0m\u001b[0;34m)\u001b[0m\u001b[0;34m\u001b[0m\u001b[0;34m\u001b[0m\u001b[0m\n",
            "\u001b[0;31mKeyError\u001b[0m: 'val'"
          ]
        }
      ]
    },
    {
      "cell_type": "code",
      "metadata": {
        "id": "JjzgM8iBgoDS",
        "outputId": "b99edae6-a831-4c6d-bd28-860711d43406",
        "colab": {
          "base_uri": "https://localhost:8080/",
          "height": 890
        }
      },
      "source": [
        "cl_model, history = train_model(cl_model, dataloaders2, criterion, optimizer, step_lr_scheduler, num_epochs=10)"
      ],
      "execution_count": 94,
      "outputs": [
        {
          "output_type": "stream",
          "text": [
            "Epoch 0/9\n",
            "----------\n",
            "train Loss: 0.3914 Acc: 0.9065\n",
            "val Loss: 0.0101 Acc: 0.9976\n",
            "\n",
            "Epoch 1/9\n",
            "----------\n",
            "train Loss: 0.3848 Acc: 0.9057\n",
            "val Loss: 0.0087 Acc: 0.9976\n",
            "\n",
            "Epoch 2/9\n",
            "----------\n",
            "train Loss: 0.3817 Acc: 0.9085\n",
            "val Loss: 0.0053 Acc: 0.9992\n",
            "\n",
            "Epoch 3/9\n",
            "----------\n",
            "train Loss: 0.3570 Acc: 0.9132\n",
            "val Loss: 0.0047 Acc: 0.9988\n",
            "\n",
            "Epoch 4/9\n",
            "----------\n",
            "train Loss: 0.3547 Acc: 0.9131\n",
            "val Loss: 0.0067 Acc: 0.9976\n",
            "\n",
            "Epoch 5/9\n",
            "----------\n",
            "train Loss: 0.3529 Acc: 0.9120\n",
            "val Loss: 0.0081 Acc: 0.9976\n",
            "\n",
            "Epoch 6/9\n",
            "----------\n",
            "train Loss: 0.3395 Acc: 0.9167\n",
            "val Loss: 0.0052 Acc: 0.9984\n",
            "\n",
            "Epoch 7/9\n",
            "----------\n",
            "train Loss: 0.3117 Acc: 0.9224\n",
            "val Loss: 0.0026 Acc: 0.9996\n",
            "\n",
            "Epoch 8/9\n",
            "----------\n",
            "train Loss: 0.3081 Acc: 0.9248\n",
            "val Loss: 0.0046 Acc: 0.9984\n",
            "\n",
            "Epoch 9/9\n",
            "----------\n",
            "train Loss: 0.2950 Acc: 0.9278\n",
            "val Loss: 0.0033 Acc: 0.9996\n",
            "\n",
            "Training complete in 16m 23s\n",
            "Best val Acc: 0.999600\n"
          ],
          "name": "stdout"
        }
      ]
    },
    {
      "cell_type": "code",
      "metadata": {
        "id": "oXkoY3SK-7kE",
        "outputId": "ddec28c0-36df-46eb-c63d-b4bb2ca31889",
        "colab": {
          "base_uri": "https://localhost:8080/",
          "height": 34
        }
      },
      "source": [
        "predict(data1['data_loaders']['train'],cl_model)"
      ],
      "execution_count": 95,
      "outputs": [
        {
          "output_type": "stream",
          "text": [
            "Accuracy of the network on session 1 images: 92 %\n"
          ],
          "name": "stdout"
        }
      ]
    },
    {
      "cell_type": "markdown",
      "metadata": {
        "id": "2ZFXySDBfPSn"
      },
      "source": [
        "## Conclusion\n",
        "\n",
        "In summary, the core50 dataset was analyzed for the purposes of continual learning. For transfer learning purposes the pretrained Resnet-18 model was used - it was finetuned to match the 50 class dataset. The phenomenon of catostrophic forgetting occured and this was mitigated by the replay methodology. "
      ]
    },
    {
      "cell_type": "code",
      "metadata": {
        "id": "JPEIoTg6k922"
      },
      "source": [
        ""
      ],
      "execution_count": null,
      "outputs": []
    }
  ]
}
